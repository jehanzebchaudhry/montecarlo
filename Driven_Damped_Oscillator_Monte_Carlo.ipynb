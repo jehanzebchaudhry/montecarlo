{
 "cells": [
  {
   "cell_type": "markdown",
   "metadata": {},
   "source": [
    "<h1><center>Monte Carlo Simulations:</center></h1>\n",
    "<h2><center>Driven Damped Oscillator</center></h2>\n",
    "<h3><center>by Ryan Dunagin ($\\textit{dunaginryan@gmail.com}$), Jonathan Gutierrez ($\\textit{gutierrezjon87@unm.edu}$) and Jehanzeb Chaudhry ($\\textit{jehanzeb@unm.edu}$)</center></h3>\n",
    "\n",
    "Here we aim to compare two different ways of solving a popular problem in physics: $\\textbf{The Driven Damped Oscillator}$. Namely the system involves a mass, m, on a spring that follows $\\textit{Hooke's Law}$ (with spring coefficient $k$). The mass experiences  air resistance proportional to velocity and hence we say the oscillator is damped. This air resistance is modeled by $-\\beta \\dot{x}$,  where $\\dot{u} = \\frac{du}{dt}$. \n",
    "Finally, it is being driven by a sinusoidal force with magnitude, $A$, and frequency, $\\omega$. This leads to   the following differential equation for the displacement $x$ of the driven damped oscillator:\n",
    "\n",
    "$$\n",
    "\\begin{equation}\n",
    "\\Large\n",
    "m\\ddot{x} + \\beta \\dot{x} + kx = Acos(wt)\n",
    "\\end{equation}\n",
    "$$\n",
    "\n",
    "The equation is solved with initial conditions for the displacement $x$ and velocity $\\dot{x}$.\n",
    "The different input parameters, $m, A, \\beta, A, w$, leads to solutions of varying behavior.  The purpose of this notebook is to demonstrate the use of numerical and stochastic errors in Monte Carlo simulation for this equation. First, we  derive an analytical solution to this linear equation and then  employ a numerical method to solve it."
   ]
  },
  {
   "cell_type": "markdown",
   "metadata": {},
   "source": [
    "<h3><center> An Analytical Solution</center></h3>"
   ]
  },
  {
   "cell_type": "markdown",
   "metadata": {},
   "source": [
    "The analytical solution to this $\\textbf{Ordinary Differential Equation}$, can be found using complex analysis (see http://hyperphysics.phy-astr.gsu.edu/hbase/oscdr.html for an overview). We start off by decomposing the solution into a homogeneous and non-homogenous part.  The $\\textbf{homogeneous}$ solution (labeled $x_H$) is the solution to the ordinary differential equation (ODE),\n",
    "\n",
    "$$\n",
    "\\begin{equation}\n",
    "\\Large\n",
    "m\\ddot{x} + \\beta \\dot{x} + kx = 0\n",
    "\\end{equation}\n",
    "$$\n",
    "\n",
    "This solution is also called the $\\textbf{transient}$ solution as it tends to decay to 0 over time. Naturally, this is how the system would behave if there were no driving forces involved. The second solution is called the $\\textbf{non-homogeneous}$ solution, labeled $x_P$. It is also called the $\\textbf{steady state}$ solution, since the system tends towards this solution after long enough time.\n",
    "\n",
    "We apply an  $\\textbf{ansatz}$ $x = Ce^{rt}$ to the above equation which leads to the following polynomial.\n",
    "$\\begin{equation}\n",
    "\\large\n",
    "mr^2 + \\beta r + k = 0 \\implies r = -\\frac{\\beta}{2m} \\pm i\\sqrt{\\frac{k}{m} - \\frac{\\beta^2}{4m^2}}\n",
    "\\end{equation}\n",
    "$\n",
    "\n",
    "This polynomial has two potentially complex roots. The real component, ($-\\frac{\\beta}{2m}$) is negative, leading to exponential decay. We'll call the decay constant $\\gamma$. The imaginary part of the exponent causes oscillations at the natural frequency $\\omega_B$. Further, $\\omega_0 \\equiv \\sqrt{\\frac{k}{m}}$  will refer to the is the system's natural frequency $\\textit{if}$ there were no damping involved. That is, if $\\beta$ = 0 then $\\omega_B = \\omega_0$. The full homogeneous solution is:\n",
    "\n",
    "$\\begin{equation}\n",
    "\\large\n",
    "x_H = e^{-\\gamma}\\Big[C_1 \\cos(\\omega_Bt) + C_2 \\sin(\\omega_Bt)\\Big] \\qquad \\text{where} \\quad \\omega_B^2 \\equiv \\frac{k}{m} - \\frac{\\beta^2}{4m^2} = \\omega_0^2 - \\gamma^2 \n",
    "\\end{equation}\n",
    "$\n",
    "\n",
    "Note that this solution is only valid in the $\\textbf{underdamped}$ case. This means that $\\beta \\dot{x}$ is small enough to not overpower the springs restorative force. Conversely, if the system is overdamped, then the transient solution will decay. The solution is underdamped if and only if: \n",
    "\n",
    "$ \\large \\gamma^2 < \\omega_0^2 = \\frac{k}{m}$,\n",
    "\n",
    "or equivalently:\n",
    "\n",
    "$\\large \\beta^2 < 4km $\n",
    "\n",
    "This is something we must verify in all cases, before passing our input parameters into our analytical solution. \n",
    "To derive the steady state solution, we  consider the following complex ansats:\n",
    "\n",
    "$\n",
    "\\begin{equation}\n",
    "\\large x = De^{i\\omega t}\n",
    "\\end{equation}\n",
    "$\n",
    "\n",
    "We plug this ansatz in the original oscillator equation.\n",
    "The solving process is very similar to the above: we assume an exponential solution but here we explicitly make it complex. The frequency, $\\omega$, is chosen to match the driving frequency. This leaves us with $D$, a complex coefficient, which we can solve for by differentiating our ansatz twice and plugging it into the ODE. Given that the right hand side, RHS, of the ODE has a cosine term, it's not immediately obvious how we are to neatly divide out all exponential terms, but we $\\textit{can}$ do this here as well. Consider replacing $Acos(\\omega t)$ with $Ae^{i\\omega t}$. Because the cosine term is simply the real component of the RHS, we can solve for D and then simply consider the steady state solution, $x_p$, as the real component of our ansats:\n",
    "\n",
    "$\n",
    "\\begin{equation}\n",
    "\\large\n",
    "x_P = Re[De^{i\\omega t}] = |D|\\cos(\\omega t + \\psi)\n",
    "\\end{equation}\n",
    "$\n",
    "\n",
    "What is left to find is the magnitude of D and its phase on the complex plane, $\\psi$. After cancelling out exponential terms we get a quadratic equation in $\\omega$, which looks like this:\n",
    "\n",
    "$\n",
    "\\begin{equation}\n",
    "\\large\n",
    "-D\\omega^2 + iD\\frac{\\beta}{m}\\omega + D\\omega_0^2 = \\frac{A}{m} \\implies \\Large D = \\frac{A}{m(\\omega_0^2 - \\omega^2 + i\\frac{\\beta}{\\omega})}\n",
    "\\end{equation}\n",
    "$\n",
    "\n",
    "Therefore, the magnitude of $D$, and phase, calculated as $\\psi$, are respectively:\n",
    "\n",
    "$\n",
    "\\begin{equation}\n",
    "\\Large\n",
    "|D| = \\frac{A}{m\\sqrt{ (\\omega_0^2 - \\omega^2)^2 + (\\frac{\\beta}{\\omega})^2 }} \\qquad \\psi = -\\tan^{-1}(\\frac{\\beta \\omega}{m(\\omega_0^2 - \\omega^2)})\n",
    "\\end{equation}\n",
    "$\n",
    "\n",
    "After finding both solutions, solving the initial value problem can be done by simply adding them together.\n",
    "\n",
    "$\n",
    "\\begin{equation}\n",
    "\\large\n",
    "x_G = x_P + x_H = e^{-\\gamma}\\Big[C_1 \\cos(\\omega_Bt) + C_2 \\sin(\\omega_Bt)\\Big] + |D|\\cos(\\omega t + \\psi)\n",
    "\\end{equation}\n",
    "$\n",
    "\n",
    "We can use known values of the initial position and velocity ($x_0$ and $v_0$ respectively) to solve for $C_1$ and $C_2$. Applying these conditions for $t$ = 0, one can algebraically show that $C_1$ and $C_2$ are:\n",
    "\n",
    "$C_1 = x_0 - |D|\\cos(\\psi) \\qquad C_2\\omega_B = v_0 + \\gamma C_1 + |D|\\omega\\sin(\\psi)$\n",
    "\n",
    "\n",
    "The main thing to notice here is the fact that $|D|$ can become arbitrarily large, if the system is driven at a frequency $\\omega = \\omega_B$ and there is no damping ($\\beta = 0$). In such a case, the system will oscillate at that frequency with an amplitude that continues to grow indefinitely (in theory at least). This phenomenon is known as $\\textit{resonance}$, and it can be studied further here by bringing $w$ close to $w_B$. The system can still hit resonance even if there is damping. In that case, the finite $\\textbf{amplitude response}$ is calculated as the ratio $|D|/A$. This ratio is always maximized at resonance. "
   ]
  },
  {
   "cell_type": "markdown",
   "metadata": {},
   "source": [
    "<h3><center>Numerical Solution: Euler's Method</center></h3>"
   ]
  },
  {
   "cell_type": "markdown",
   "metadata": {},
   "source": [
    "Euler's method will be used to solve this ODE, given a pair of initial conditions, $x_0$ and $v_0$. We perform Euler's method on both the position and velocity, labeled $y_1$ and $y_2$ respectively. In other words, we consider an equivalent first-order system:\n",
    "\n",
    "$\\begin{equation}\n",
    "\\dot{y_1}(t) = y_2(t) \\qquad\n",
    "\\dot{y_2}(t) = \\ddot{y_1}(t) = - \\frac{\\beta}{m}y_2 - \\frac{k}{m}y_1 + \\frac{A}{m}cos(wt)\n",
    "\\end{equation}$\n",
    "\n",
    "and apply Euler's method to this system. "
   ]
  },
  {
   "cell_type": "markdown",
   "metadata": {},
   "source": [
    "<h3><center>Python Code for Analytical and Numerical Solution</center></h3>"
   ]
  },
  {
   "cell_type": "code",
   "execution_count": 84,
   "metadata": {
    "pycharm": {
     "is_executing": true
    }
   },
   "outputs": [],
   "source": [
    "import numpy as np\n",
    "import matplotlib as mpl\n",
    "import matplotlib.pyplot as pyt\n",
    "# Font sizes\n",
    "pltsz = 8\n",
    "pyt.rc('font',size=2.5*pltsz)\n",
    "pyt.rc('xtick',labelsize=2*pltsz)\n",
    "pyt.rc('ytick',labelsize=2*pltsz)\n",
    "pyt.rc('axes',labelsize=2.5*pltsz)\n",
    "pyt.rc('legend',fontsize=2*pltsz)\n",
    "\n",
    "def run_analytical(m,beta,k,A,w,a,b,ta,x_0,v_0,frequencies = True):\n",
    "    # Calculated Frequencies\n",
    "    w_0 = np.sqrt(k/m) # Undamped freq\n",
    "    w_B = np.sqrt(w_0**2 - (beta/2/m)**2) # Damped freq\n",
    "    \n",
    "    # Uncomment below to see behavior close to resonance \n",
    "    #w = w_B*0.95 \n",
    "    \n",
    "    #It is convenient to define Dmod as negative when driving above resonance, and positive otherwise\n",
    "    if w < w_0:\n",
    "        Dmod = A/m/np.sqrt( (w_0**2 - w**2)**2  + (beta*w/m)**2 )\n",
    "    else:\n",
    "        Dmod = -A/m/np.sqrt( (w_0**2 - w**2)**2  + (beta*w/m)**2 )\n",
    "    \n",
    "    if frequencies:\n",
    "        # Amplitude response CAN GET LARGE IF AT RESONANCE AND UNDAMPED (beta = 0 and w = w_B)\n",
    "        print(f'w_0 = {w_0}')\n",
    "        print(f'w_B = {w_B}')\n",
    "        print(f'w = {w}')\n",
    "        print(f'The amplitude response ratio is: {Dmod/A}')\n",
    "\n",
    "    psi = -np.arctan(beta*w/m/(w_0**2 - w**2)) # D phase\n",
    "    gam = beta/(2*m) # decay constant\n",
    "    C1 = x_0 - Dmod*np.cos(psi)\n",
    "    C2 = v_0/w_B + gam*C1/w_B + Dmod*w/w_B*np.sin(psi) \n",
    "    \n",
    "    # Transient + Steady State Soln\n",
    "    U = ( C1*np.cos(w_B*ta) + C2*np.sin(w_B*ta) )*np.exp(-gam*ta) + Dmod*np.cos(w*ta + psi)\n",
    "    # Final Value\n",
    "    Ufin = U[-1]\n",
    "    return U, Ufin\n",
    "\n",
    "# Defining a Numerical solution using Euler's method   \n",
    "def eulers_method(m,beta,k,A,w,a,b,N,x_0,v_0,h):\n",
    "    # Calculated Frequencies\n",
    "    w_0 = np.sqrt(k/m) # Undamped freq\n",
    "    w_B = np.sqrt(w_0**2 - (beta/2/m)**2) # Damped freq\n",
    "    \n",
    "    # Uncomment below to see behavior close to resonance \n",
    "    #w = w_B*0.95 \n",
    "    \n",
    "    y1 = np.zeros([N+1])\n",
    "    y2 = np.zeros([N+1])\n",
    "    y1p = np.zeros([N+1])\n",
    "    y2p = np.zeros([N+1])\n",
    "    t = np.linspace(a,b,N+1)\n",
    "    \n",
    "    #initialize\n",
    "    y1[0] = x_0\n",
    "    y2[0] = v_0\n",
    "    \n",
    "    # calculates numerical solution iteratively\n",
    "    for i in range(N):\n",
    "        y1p[i] = y2[i]\n",
    "        y2p[i] = -beta/m*y2[i] - k/m*y1[i] + A/m*np.cos(w*t[i])\n",
    "        y2[i+1] = y2[i] + h*y2p[i]\n",
    "        y1[i+1] = y1[i] + h*y1p[i]\n",
    "    y1fin = y1[-1]\n",
    "    return y1, y1fin, t\n"
   ]
  },
  {
   "cell_type": "markdown",
   "metadata": {},
   "source": [
    "<h2><center>Convergence of Forward Euler</center></h2>"
   ]
  },
  {
   "cell_type": "markdown",
   "metadata": {},
   "source": [
    "Euler's method has an error between the numerical solution and true solution that is (at worst) proportional to $h$, the time-step size, or in other words $O(h)$. \n",
    "Our goal below is to compare the analytical and numerical solutions to study this final error. We aim to check for convergence between solutions and confirm that the error is $O(h)$ (that is, it has a positive linear relationship with $h$). To do this, we must vary the step size in time ($h$) and find multiple numerical solutions. All of this is done in our first comparison. Below is the first error analysis, for varying h. We also plot the analytical and numerical solution for the finest value of $h$."
   ]
  },
  {
   "cell_type": "code",
   "execution_count": 85,
   "metadata": {
    "pycharm": {
     "is_executing": true
    },
    "scrolled": true
   },
   "outputs": [
    {
     "name": "stdout",
     "output_type": "stream",
     "text": [
      "w_0 = 1.1832159566199232\n",
      "w_B = 1.1771151175649728\n",
      "w = 0.65\n",
      "The amplitude response ratio is: 0.40409354247486945\n",
      "Final Value (Analytical):0.838169917397355\n",
      "Final Value (Numerical):0.8381705734149143\n"
     ]
    },
    {
     "data": {
      "image/png": "[encoded data removed]",
      "text/plain": [
       "<Figure size 576x576 with 1 Axes>"
      ]
     },
     "metadata": {
      "needs_background": "light"
     },
     "output_type": "display_data"
    },
    {
     "data": {
      "image/png": "[encoded data removed]",
      "text/plain": [
       "<Figure size 576x576 with 1 Axes>"
      ]
     },
     "metadata": {
      "needs_background": "light"
     },
     "output_type": "display_data"
    }
   ],
   "source": [
    "# Number of points to evalutate on each numerical solution\n",
    "# Solution to IVP\n",
    "\n",
    "#Parameter values\n",
    "A = 3\n",
    "m = 2.5\n",
    "beta = 0.6\n",
    "k = 3.5\n",
    "w = 0.65\n",
    "\n",
    "#Initial conditions:\n",
    "x_0 = A*2/7\n",
    "v_0 = 0\n",
    "\n",
    "# Time array\n",
    "a = 0 # start\n",
    "b = 1 # end\n",
    "ta = np.linspace(a,b,10**5)\n",
    "\n",
    "# Running Analytical Solution for the full time array\n",
    "U, Ufin = run_analytical(m,beta,k,A,w,a,b,ta,x_0,v_0)\n",
    "\n",
    "# Running Numerical Solution for different h values\n",
    "Num_pts = np.round(np.linspace(10**4,10**5,5))\n",
    "Num_pts = Num_pts.astype(int)\n",
    "h_var = (b - a)/Num_pts\n",
    "Err = np.zeros(len(h_var))\n",
    "save_run = len(h_var) - 1 # save last run\n",
    "#save_run = 0 # save first run\n",
    "\n",
    "for j,h in enumerate(h_var):\n",
    "    y1, y1fin, t = eulers_method(m,beta,k,A,w,a,b,Num_pts[j],x_0,v_0,h)\n",
    "    \n",
    "    # Error in the numerical method when time t = b\n",
    "    Err[j] = np.abs(y1fin - Ufin)\n",
    "    \n",
    "    if j == save_run:\n",
    "        y_save = y1\n",
    "        t_save = t\n",
    "\n",
    "# plots the analytical soln and a saved numerical soln\n",
    "pyt.figure(num = 1, figsize = (pltsz,pltsz))\n",
    "pyt.plot(ta,U)\n",
    "pyt.plot(t_save,y_save,'--')\n",
    "pyt.legend(['Analytical','Numerical'], loc='upper right')\n",
    "pyt.xlabel('Time (sec)')\n",
    "pyt.ylabel('Spring Position (m)')\n",
    "\n",
    "# h and Err should have a positive linear relationship for sufficiently large N (about 10^5 or larger):  \n",
    "pyt.figure(num = 2, figsize = (pltsz,pltsz))\n",
    "pyt.loglog(h_var,Err)\n",
    "pyt.loglog(h_var, (1/Num_pts))\n",
    "pyt.legend(['Error', 'reference linear'])\n",
    "pyt.grid()\n",
    "pyt.xlabel('h')\n",
    "pyt.ylabel('Error')\n",
    "\n",
    "print(f'Final Value (Analytical):{Ufin}\\nFinal Value (Numerical):{y1fin}')"
   ]
  },
  {
   "cell_type": "markdown",
   "metadata": {},
   "source": [
    "<h2><center>Generating Random Samples</center></h2>"
   ]
  },
  {
   "cell_type": "markdown",
   "metadata": {},
   "source": [
    "After verifying convergence, it is interesting to uniformly, randomly sample the input parameters. Below, you may adjust the distributions on each parameter to the differential equation. For this experiment, we will be only randomly sampling two parameters: $k$ and $m$. Our $\\beta$, $A$, and $\\omega$ parameters will be fixed. "
   ]
  },
  {
   "cell_type": "code",
   "execution_count": 86,
   "metadata": {
    "pycharm": {
     "is_executing": true
    }
   },
   "outputs": [],
   "source": [
    "# Array of parameters to test the numerical solution: N random samples\n",
    "\n",
    "#np.random.seed(25) #uncomment this to reproduce tables used in final discussion\n",
    "\n",
    "#Sampling ranges\n",
    "m_low = 0.5\n",
    "m_high = 4.5\n",
    "\n",
    "k_low = 1.5\n",
    "k_high = 5.5\n",
    "\n",
    "#The parameters below are fixed (that is, not sampled)\n",
    "beta = 1\n",
    "A = 5.5\n",
    "w = 0.75\n",
    "\n",
    "# Checks the worst case scenario\n",
    "if beta**2 >= 4*k_low*m_low:\n",
    "    raise NameError('Overdamped cases exist')\n",
    "\n",
    "N = 10000\n",
    "def sample_hypercube(N):\n",
    "    '''This function takes an N sized sample of parameters. Parameters are organised by collumns'''\n",
    "    all_para = []\n",
    "    all_para = np.reshape(all_para,[0,2])\n",
    "    for i in range(N):\n",
    "        para = np.random.uniform([m_low,k_low],[m_high,k_high])\n",
    "        m_temp = para[0]\n",
    "        k_temp = para[1]\n",
    "        all_para = np.concatenate((all_para,np.reshape(para,[1,2])),axis=0)  \n",
    "    return all_para\n",
    "\n",
    "all_para = sample_hypercube(N)\n"
   ]
  },
  {
   "cell_type": "markdown",
   "metadata": {},
   "source": [
    "<h2><center>Monte Carlo Simulation</center></h2>"
   ]
  },
  {
   "cell_type": "markdown",
   "metadata": {},
   "source": [
    "Here we attempt to compute the $\\textbf{final value}$, the position at $t$ = $b$, using the uniform distribution of input parameters. This method is more analogous to what is used on real systems; typically, we don't have a closed form for the solution to a differential equation. Also, in science any meaningful input parameter must have some uncertainty associated, and thus it should be represented as a distribution of values. Instead of directly solving the final value using the averages of the parameters (as done above), we can more accurately find $N$ different final values with $N$ sets of randomly chosen parameters. Then we can average these values to find a different final value. "
   ]
  },
  {
   "cell_type": "markdown",
   "metadata": {},
   "source": [
    "<h3><center>Finding the True Expected Value</center></h3>\n",
    "\n",
    "We calculate a \"true value,\" labeled $E_{true}$. This is the final value of the analytical solution averaged over an extremely large number of samples.\n",
    "\n",
    "\n",
    "Let $U(t = T)\\equiv$ Final value from analytical solution, and $y_h(t = T) \\equiv$ Final value from numerical solution. Then we define $E_{true}$ as:\n",
    "\n",
    "$\n",
    "\\begin{align*}\n",
    "%\\text{Then:}\\\\\n",
    "\\large E_{true} &= \\large \\underset{N \\rightarrow \\infty}{\\lim} \\frac{1}{N} \\sum_{i = 1}^{N} U(T)\\\\\n",
    "\\end{align*}\n",
    "$\n"
   ]
  },
  {
   "cell_type": "code",
   "execution_count": 87,
   "metadata": {
    "pycharm": {
     "is_executing": true
    }
   },
   "outputs": [
    {
     "name": "stdout",
     "output_type": "stream",
     "text": [
      "Our true final value, using the analytical solution, for 10000 samples is :[1.26045675]\n"
     ]
    }
   ],
   "source": [
    "# Find E_true\n",
    "\n",
    "E_mat = np.zeros([N,1])\n",
    "for i in range(N):\n",
    "    #Randomly sample m and k parameters\n",
    "    m_temp = all_para[i][0]\n",
    "    k_temp = all_para[i][1]\n",
    "    t_true = np.linspace(a,b,2)\n",
    "\n",
    "    # Find Analytical Solution with each set of input parameters\n",
    "    _, E_mat[i] = run_analytical(m_temp,beta,k_temp,A,w,a,b,t_true,x_0,v_0,frequencies = False)\n",
    "    \n",
    "E_true = np.mean(E_mat, axis = 0)\n",
    "print(f'Our true final value, using the analytical solution, for {N} samples is :{E_true}')\n"
   ]
  },
  {
   "cell_type": "markdown",
   "metadata": {},
   "source": [
    "<h3><center>Monte Carlo Simulation with True and Euler's Solutions</center></h3>\n",
    "\n",
    "\n",
    "Let $N$ be the number of parameter samples taken, and $h$ be the step size in solving the numerical solution. We shall vary both and see their effects on the errors. We define the following $\\textbf{expectation values}$:\n",
    "\n",
    "\n",
    "Let $U(t = T) \\equiv$ Final value from analytical solution, and $y_h(t = T) \\equiv$ Final value from numerical solution. Then we define $E_N$ and $E_{N,h}$ as:\n",
    "\n",
    "$\n",
    "\\begin{align*}\n",
    "\\large E_{N} &= \\large \\frac{1}{N} \\sum_{i = 1}^{N} U(T)\\\\\n",
    "\\large E_{N,h} &= \\large \\frac{1}{N} \\sum_{i = 1}^{N} y_h(T)\\\\\n",
    "\\end{align*}\n",
    "$\n",
    "\n",
    "The value $E_{N,h}$ is what would be computed in practice by a scientist or an engineer. The value $E_{N}$ is used to quantify the effect of discretization on the Monte Carlo Simulation."
   ]
  },
  {
   "cell_type": "code",
   "execution_count": 88,
   "metadata": {
    "pycharm": {
     "is_executing": true
    }
   },
   "outputs": [
    {
     "name": "stdout",
     "output_type": "stream",
     "text": [
      "Done with N = 100\n",
      "Done with N = 500\n",
      "Done with N = 1000\n",
      "Done with N = 2000\n"
     ]
    }
   ],
   "source": [
    "# Redefining h array\n",
    "#Num_pts = np.round(np.linspace(1000,2000,8))\n",
    "Num_pts = np.array([2,5,10,20,50])\n",
    "h_var = (b - a)/Num_pts\n",
    "\n",
    "# Array of sample sizes\n",
    "N_array = np.array([100,500,1000,2000])\n",
    "E_table = np.zeros([len(N_array), (len(h_var) + 1)])\n",
    "\n",
    "for row, N in enumerate(N_array):\n",
    "    all_para = sample_hypercube(N)\n",
    "    sol_mat = np.zeros([N,(len(h_var) + 1)])\n",
    "    # The collumns of this matrix are ordered by solution type, \n",
    "    # from Analytical Solution to Euler's Method low h to Euler's method high h\n",
    "\n",
    "    for i in range(N):\n",
    "        #choose which parameters are randomly sampled. Define constants above. For this experiment we randomly sample m and k.\n",
    "        m_temp = all_para[i][0]\n",
    "        k_temp = all_para[i][1]\n",
    "        t_true = np.linspace(a,b,2)\n",
    "\n",
    "        # Find Analytical Soln with each set of input parameters\n",
    "        _, sol_mat[i][0] = run_analytical(m_temp,beta_temp,k_temp,A_temp,w_temp,a,b,t_true,x_0,v_0,frequencies = False)\n",
    "\n",
    "        # Similarly, Find Numerical Soln with each h value\n",
    "        for j,h in enumerate(h_var):\n",
    "            _, sol_mat[i][j + 1], _ = eulers_method(m_temp,beta_temp,k_temp,A_temp,w_temp,a,b,Num_pts[j],x_0,v_0,h)\n",
    "\n",
    "    sol_avg = np.mean(sol_mat, axis = 0)\n",
    "    print(f'Done with N = {N}')\n",
    "    E_table[row][:] = sol_avg"
   ]
  },
  {
   "cell_type": "markdown",
   "metadata": {},
   "source": [
    "<h3><center>Stochastic and Discretization Errors for Monte Carlo</center></h3>"
   ]
  },
  {
   "cell_type": "markdown",
   "metadata": {},
   "source": [
    "The total error on the numerical solution using Monte Carlo Simulation, labeled $T_{N,h}$, is the following:\n",
    "\n",
    "$\n",
    "\\begin{align*}\n",
    "T_{N,h} = E_{true} - E_{N,h} &= (E_{true} - E_N) + (E_N - E_{N,h})\\\\\n",
    "&\\equiv \\qquad S_N \\qquad + \\qquad D_{h,N}\\\\\n",
    "&= \\qquad \\text{Stochastic} + \\text{Discretization}\n",
    "\\end{align*}\n",
    "$\n",
    "\n",
    "The total error can be broken down into are two types, as described above: Stochastic Error and Discretization Error. We tabulate the results for these errors as we vary $N$ and $h$."
   ]
  },
  {
   "cell_type": "code",
   "execution_count": 89,
   "metadata": {
    "pycharm": {
     "is_executing": true
    }
   },
   "outputs": [
    {
     "data": {
      "text/plain": [
       "Text(0.5, 1.0, 'Discretization Error for N = 2000')"
      ]
     },
     "execution_count": 89,
     "metadata": {},
     "output_type": "execute_result"
    },
    {
     "data": {
      "image/png": "[encoded data removed]",
      "text/plain": [
       "<Figure size 576x576 with 1 Axes>"
      ]
     },
     "metadata": {
      "needs_background": "light"
     },
     "output_type": "display_data"
    }
   ],
   "source": [
    "# Generating Error tables\n",
    "S_table = np.zeros([len(N_array), len(h_var)])\n",
    "D_table = np.zeros([len(N_array), len(h_var)])\n",
    "\n",
    "# Calculates stochastic errors\n",
    "S_array = abs( E_true*np.ones([len(N_array)]) - np.reshape(E_table[:,0],[len(N_array)]) )\n",
    "\n",
    "for j in range(len(h_var)):\n",
    "    S_table[:,j] = S_array\n",
    "    D_table[:,j] = abs( E_table[:,0] - E_table[:,j+1] ) # calculates discretization errors\n",
    "\n",
    "# Total Error\n",
    "T_table = S_table + D_table\n",
    "\n",
    "Nind = len(N_array) - 1 # index on N to display discretizaton error\n",
    "pyt.figure(num = 3, figsize = (pltsz,pltsz))\n",
    "pyt.loglog(2*h_var,D_table[Nind,:]) #changed it to 2*h_var to include more points on x-axis\n",
    "pyt.xlabel('h (sec)')\n",
    "pyt.ylabel('Err (m)')\n",
    "pyt.title(f'Discretization Error for N = {N_array[Nind]}')"
   ]
  },
  {
   "cell_type": "code",
   "execution_count": 90,
   "metadata": {
    "pycharm": {
     "is_executing": true
    }
   },
   "outputs": [
    {
     "name": "stdout",
     "output_type": "stream",
     "text": [
      "Total Errors\n"
     ]
    },
    {
     "data": {
      "text/html": [
       "<table><tr><td></td><td>h = 0.5</td><td>h = 0.2</td><td>h = 0.1</td><td>h = 0.05</td><td>h = 0.02</td></tr><tr><td>N = 100</td><td>0.0781</td><td>0.0736</td><td>0.0603</td><td>0.0504</td><td>0.0438</td></tr><tr><td>N = 500</td><td>0.064</td><td>0.0219</td><td>0.0167</td><td>0.0111</td><td>0.00702</td></tr><tr><td>N = 1000</td><td>0.0631</td><td>0.0224</td><td>0.0175</td><td>0.0119</td><td>0.00776</td></tr><tr><td>N = 2000</td><td>0.0577</td><td>0.0204</td><td>0.0145</td><td>0.00845</td><td>0.0041</td></tr></table>"
      ],
      "text/plain": [
       "<IPython.core.display.HTML object>"
      ]
     },
     "metadata": {},
     "output_type": "display_data"
    },
    {
     "name": "stdout",
     "output_type": "stream",
     "text": [
      "Stochastic Errors\n"
     ]
    },
    {
     "data": {
      "text/html": [
       "<table><tr><td></td><td>h = 0.5</td><td>h = 0.2</td><td>h = 0.1</td><td>h = 0.05</td><td>h = 0.02</td></tr><tr><td>N = 100</td><td>0.0392</td><td>0.0392</td><td>0.0392</td><td>0.0392</td><td>0.0392</td></tr><tr><td>N = 500</td><td>0.00405</td><td>0.00405</td><td>0.00405</td><td>0.00405</td><td>0.00405</td></tr><tr><td>N = 1000</td><td>0.00476</td><td>0.00476</td><td>0.00476</td><td>0.00476</td><td>0.00476</td></tr><tr><td>N = 2000</td><td>0.000951</td><td>0.000951</td><td>0.000951</td><td>0.000951</td><td>0.000951</td></tr></table>"
      ],
      "text/plain": [
       "<IPython.core.display.HTML object>"
      ]
     },
     "metadata": {},
     "output_type": "display_data"
    },
    {
     "name": "stdout",
     "output_type": "stream",
     "text": [
      "Discretization Errors\n"
     ]
    },
    {
     "data": {
      "text/html": [
       "<table><tr><td></td><td>h = 0.5</td><td>h = 0.2</td><td>h = 0.1</td><td>h = 0.05</td><td>h = 0.02</td></tr><tr><td>N = 100</td><td>0.039</td><td>0.0344</td><td>0.0211</td><td>0.0112</td><td>0.00461</td></tr><tr><td>N = 500</td><td>0.06</td><td>0.0179</td><td>0.0127</td><td>0.00705</td><td>0.00297</td></tr><tr><td>N = 1000</td><td>0.0583</td><td>0.0176</td><td>0.0127</td><td>0.0071</td><td>0.003</td></tr><tr><td>N = 2000</td><td>0.0567</td><td>0.0195</td><td>0.0136</td><td>0.0075</td><td>0.00315</td></tr></table>"
      ],
      "text/plain": [
       "<IPython.core.display.HTML object>"
      ]
     },
     "metadata": {},
     "output_type": "display_data"
    }
   ],
   "source": [
    "# Display Tables\n",
    "from IPython.display import HTML, display\n",
    "\n",
    "def round_matrix(table):\n",
    "    round_table = table\n",
    "    sigfigs = 2\n",
    "    \n",
    "    for i in range(np.size(table, axis=0)):\n",
    "        for j in range(np.size(table, axis=1)):\n",
    "            round_table[i,j] = str(round(table[i,j], -int(np.floor(np.log10(abs(table[i,j])))) + sigfigs)) \n",
    "    return round_table\n",
    "\n",
    "S_round_table = round_matrix(S_table)\n",
    "D_round_table = round_matrix(D_table)\n",
    "T_round_table = round_matrix(T_table)\n",
    "\n",
    "h_values = np.zeros([1,len(h_var)])\n",
    "h_values = h_values.astype('str')\n",
    "for i, h in enumerate(h_var):\n",
    "    h_values[0,i] = \"h = \" + str(round(h, -int(np.floor(np.log10(abs(h)))) + 3))\n",
    "\n",
    "N_values = np.zeros([len(N_array) + 1,1])\n",
    "N_values = N_values.astype('str')\n",
    "N_values[0] = \"\"\n",
    "for i, N in enumerate(N_array):\n",
    "    N_values[i+1,0] = \"N = \" + str(N) \n",
    "\n",
    "S_TABLE = np.concatenate((h_values,S_round_table), axis=0)\n",
    "S_TABLE = np.concatenate((N_values,S_TABLE), axis=1)\n",
    "\n",
    "D_TABLE = np.concatenate((h_values,D_round_table), axis=0)\n",
    "D_TABLE = np.concatenate((N_values,D_TABLE), axis=1)\n",
    "\n",
    "T_TABLE = np.concatenate((h_values,T_round_table), axis=0)\n",
    "T_TABLE = np.concatenate((N_values,T_TABLE), axis=1)\n",
    "\n",
    "print('Total Errors')\n",
    "display(HTML(\n",
    "   '<table><tr>{}</tr></table>'.format(\n",
    "       '</tr><tr>'.join(\n",
    "           '<td>{}</td>'.format(\n",
    "               '</td><td>'.join(im for im in row)) for row in T_TABLE\n",
    "           )\n",
    "       )\n",
    "))\n",
    "\n",
    "print('Stochastic Errors')\n",
    "display(HTML(\n",
    "   '<table><tr>{}</tr></table>'.format(\n",
    "       '</tr><tr>'.join(\n",
    "           '<td>{}</td>'.format(\n",
    "               '</td><td>'.join(im for im in row)) for row in S_TABLE\n",
    "           )\n",
    "       )\n",
    "))\n",
    "\n",
    "print('Discretization Errors')\n",
    "display(HTML(\n",
    "   '<table><tr>{}</tr></table>'.format(\n",
    "       '</tr><tr>'.join(\n",
    "           '<td>{}</td>'.format(\n",
    "               '</td><td>'.join(im for im in row)) for row in D_TABLE\n",
    "           )\n",
    "       )\n",
    "))\n"
   ]
  },
  {
   "cell_type": "markdown",
   "metadata": {},
   "source": [
    "<h3><center>Conclusions and Discussion :</center></h3>\n",
    "\n",
    "Using our analytical for comparison, we verified that Euler's method has linear convergence or converges as $O(h)$. We able to compute the expected value using randomly sampled values for $k$ and $m$ over $N$ total iterations. Finally, we generated three tables (total error, stochastic error, and discretization error), to observe the effects  on the error after varying $N$ and $h$.\n",
    "\n",
    "\n",
    "Notice the discretization error decreases by approximately $\\frac{h_{i+1}}{h_{i}}$ as $h$ gets smaller ($h_i < h_j$ whenever $i < j$). For example, from $h$ = 0.1 to 0.05, the error decreases by about 0.5 and $\\frac{h_{3}}{h_{2}}$ = 0.5. And from $h$ = 0.05 to 0.02, the error decreases by about 0.4 and $\\frac{h_{4}}{h_{3}}$ = 0.4. \n",
    "\n",
    "Notice for $N$ = 100, our stochastic error is a significantly large. For $N$ = 100, we see our discretization error tends to be a lot smaller than our stochastic error. What this tells us, is that our stochastic error is contributing more to the total error than our discretization error. Thus to get a better approximation, we would need to increase the number of iterations to reduce the stochastic error in our simulations. Notice in the case of $N$ = 2000, our stochastic error generally a lot smaller than our discretization error (aside from $h$ = 0.5 and 0.02). Thus our discretization error is contributing more to the total error than our stochastic error. In cases like these, we would need to use a smaller step size to bring down the discretization error to get a more accurate approximation.\n",
    "\n",
    "Generally speaking, if our stochastic error is much smaller than our discretization error, we would focus on using smaller step sizes. If our discretization error is much smaller than our stochastic error, we would need to increase the number of iterations in our simulation. "
   ]
  },
  {
   "cell_type": "code",
   "execution_count": null,
   "metadata": {},
   "outputs": [],
   "source": []
  }
 ],
 "metadata": {
  "kernelspec": {
   "display_name": "Python 3",
   "language": "python",
   "name": "python3"
  },
  "language_info": {
   "codemirror_mode": {
    "name": "ipython",
    "version": 3
   },
   "file_extension": ".py",
   "mimetype": "text/x-python",
   "name": "python",
   "nbconvert_exporter": "python",
   "pygments_lexer": "ipython3",
   "version": "3.6.9"
  },
  "pycharm": {
   "stem_cell": {
    "cell_type": "raw",
    "metadata": {
     "collapsed": false
    },
    "source": []
   }
  }
 },
 "nbformat": 4,
 "nbformat_minor": 4
}
